{
 "cells": [
  {
   "cell_type": "code",
   "execution_count": 1,
   "metadata": {
    "collapsed": true
   },
   "outputs": [],
   "source": [
    "import pandas as pd\n",
    "import numpy as np"
   ]
  },
  {
   "cell_type": "code",
   "execution_count": null,
   "metadata": {
    "collapsed": true
   },
   "outputs": [],
   "source": []
  },
  {
   "cell_type": "code",
   "execution_count": 2,
   "metadata": {
    "collapsed": false
   },
   "outputs": [],
   "source": [
    "osoby = pd.read_csv('vstupy/osoby.unl',\n",
    "                    encoding='cp1250', sep='|', header=None)\n",
    "osoby.columns = 'id_osoba, pred, prijmeni, jmeno, za, \\\n",
    "narozeni, pohlavi, zmena, umrti, x'.split(', ')"
   ]
  },
  {
   "cell_type": "code",
   "execution_count": 3,
   "metadata": {
    "collapsed": false
   },
   "outputs": [
    {
     "data": {
      "text/html": [
       "<div>\n",
       "<table border=\"1\" class=\"dataframe\">\n",
       "  <thead>\n",
       "    <tr style=\"text-align: right;\">\n",
       "      <th></th>\n",
       "      <th>id_osoba</th>\n",
       "      <th>pred</th>\n",
       "      <th>prijmeni</th>\n",
       "      <th>jmeno</th>\n",
       "      <th>za</th>\n",
       "      <th>narozeni</th>\n",
       "      <th>pohlavi</th>\n",
       "      <th>zmena</th>\n",
       "      <th>umrti</th>\n",
       "      <th>x</th>\n",
       "    </tr>\n",
       "  </thead>\n",
       "  <tbody>\n",
       "    <tr>\n",
       "      <th>0</th>\n",
       "      <td>1</td>\n",
       "      <td>Ing.</td>\n",
       "      <td>Bachna</td>\n",
       "      <td>Petr</td>\n",
       "      <td></td>\n",
       "      <td>08.01.1948</td>\n",
       "      <td>M</td>\n",
       "      <td>NaN</td>\n",
       "      <td>NaN</td>\n",
       "      <td>NaN</td>\n",
       "    </tr>\n",
       "    <tr>\n",
       "      <th>1</th>\n",
       "      <td>2</td>\n",
       "      <td>Ing.</td>\n",
       "      <td>Bečvář</td>\n",
       "      <td>Ivan</td>\n",
       "      <td></td>\n",
       "      <td>19.01.1934</td>\n",
       "      <td>M</td>\n",
       "      <td>NaN</td>\n",
       "      <td>NaN</td>\n",
       "      <td>NaN</td>\n",
       "    </tr>\n",
       "    <tr>\n",
       "      <th>2</th>\n",
       "      <td>3</td>\n",
       "      <td></td>\n",
       "      <td>Bejček</td>\n",
       "      <td>Josef</td>\n",
       "      <td></td>\n",
       "      <td>03.03.1935</td>\n",
       "      <td>M</td>\n",
       "      <td>NaN</td>\n",
       "      <td>NaN</td>\n",
       "      <td>NaN</td>\n",
       "    </tr>\n",
       "  </tbody>\n",
       "</table>\n",
       "</div>"
      ],
      "text/plain": [
       "   id_osoba  pred prijmeni  jmeno za    narozeni pohlavi zmena umrti   x\n",
       "0         1  Ing.   Bachna   Petr     08.01.1948       M   NaN   NaN NaN\n",
       "1         2  Ing.   Bečvář   Ivan     19.01.1934       M   NaN   NaN NaN\n",
       "2         3         Bejček  Josef     03.03.1935       M   NaN   NaN NaN"
      ]
     },
     "execution_count": 3,
     "metadata": {},
     "output_type": "execute_result"
    }
   ],
   "source": [
    "osoby.head(3)"
   ]
  },
  {
   "cell_type": "code",
   "execution_count": 4,
   "metadata": {
    "collapsed": false
   },
   "outputs": [],
   "source": [
    "osoby.narozeni = ['{2}-{1}-{0}'.format(*j.split('.')) for j in osoby.narozeni]"
   ]
  },
  {
   "cell_type": "code",
   "execution_count": null,
   "metadata": {
    "collapsed": true
   },
   "outputs": [],
   "source": []
  },
  {
   "cell_type": "code",
   "execution_count": null,
   "metadata": {
    "collapsed": true
   },
   "outputs": [],
   "source": []
  },
  {
   "cell_type": "code",
   "execution_count": 5,
   "metadata": {
    "collapsed": true
   },
   "outputs": [],
   "source": [
    "zarazeni = pd.read_csv('vstupy/zarazeni.unl',\n",
    "                    encoding='cp1250', sep='|', header=None)\n",
    "zarazeni.columns = 'id_osoba, id_of, cl_funkce, od_o, do_o, od_f, do_f, x'.split(', ')"
   ]
  },
  {
   "cell_type": "code",
   "execution_count": 6,
   "metadata": {
    "collapsed": true
   },
   "outputs": [],
   "source": [
    "zarazeni = zarazeni.loc[zarazeni.cl_funkce == 0]"
   ]
  },
  {
   "cell_type": "code",
   "execution_count": 7,
   "metadata": {
    "collapsed": false
   },
   "outputs": [],
   "source": [
    "organy = pd.read_csv('vstupy/organy.unl',\n",
    "                    encoding='cp1250', sep='|', header=None)\n",
    "organy.columns = 'id_organ, organ_id_organ, id_typ_organu, zkratka, nazev_organu_cz, nazev_organu_en, od_organ, \\\n",
    "do_organ, priorita, cl_organ_base, x'.split(', ')"
   ]
  },
  {
   "cell_type": "markdown",
   "metadata": {},
   "source": [
    "### mapovani"
   ]
  },
  {
   "cell_type": "code",
   "execution_count": 9,
   "metadata": {
    "collapsed": false
   },
   "outputs": [],
   "source": [
    "zarm = zarazeni.merge(organy, left_on='id_of', right_on='id_organ')"
   ]
  },
  {
   "cell_type": "code",
   "execution_count": 15,
   "metadata": {
    "collapsed": false
   },
   "outputs": [
    {
     "ename": "SyntaxError",
     "evalue": "invalid syntax (<ipython-input-15-13de3eaeefce>, line 1)",
     "output_type": "error",
     "traceback": [
      "\u001b[0;36m  File \u001b[0;32m\"<ipython-input-15-13de3eaeefce>\"\u001b[0;36m, line \u001b[0;32m1\u001b[0m\n\u001b[0;31m    zpsp = zarm.loc[zarm.nazev_organu_cz.                isin('Poslanecká sněmovna',                     'Senát', 'Vláda České republiky'])\u001b[0m\n\u001b[0m                                                                                                                                         ^\u001b[0m\n\u001b[0;31mSyntaxError\u001b[0m\u001b[0;31m:\u001b[0m invalid syntax\n"
     ]
    }
   ],
   "source": [
    "zpsp = zarm.loc[zarm.nazev_organu_cz.\\\n",
    "                isin(['Poslanecká sněmovna',\\\n",
    "                     'Senát', 'Vláda České republiky'])\n",
    "zpsp.head(2)"
   ]
  },
  {
   "cell_type": "code",
   "execution_count": 11,
   "metadata": {
    "collapsed": false
   },
   "outputs": [],
   "source": [
    "for g in zpsp.groupby('zkratka'):\n",
    "    osoby.loc[osoby.id_osoba.isin(set(g[1].id_osoba.tolist()))].\\\n",
    "drop(['id_osoba', 'zmena', 'x'], axis=1).to_csv('vystupy/%s.csv' % g[0], index=False)"
   ]
  },
  {
   "cell_type": "code",
   "execution_count": null,
   "metadata": {
    "collapsed": true
   },
   "outputs": [],
   "source": []
  },
  {
   "cell_type": "code",
   "execution_count": 12,
   "metadata": {
    "collapsed": true
   },
   "outputs": [],
   "source": [
    "# with open('org.txt', 'w') as fw:\n",
    "#     with open('vstupy/organy.unl', encoding='cp1250') as f:\n",
    "#         fw.write(f.read())"
   ]
  },
  {
   "cell_type": "code",
   "execution_count": null,
   "metadata": {
    "collapsed": true
   },
   "outputs": [],
   "source": []
  },
  {
   "cell_type": "code",
   "execution_count": null,
   "metadata": {
    "collapsed": true
   },
   "outputs": [],
   "source": []
  },
  {
   "cell_type": "code",
   "execution_count": null,
   "metadata": {
    "collapsed": true
   },
   "outputs": [],
   "source": []
  }
 ],
 "metadata": {
  "kernelspec": {
   "display_name": "Python 3",
   "language": "python",
   "name": "python3"
  },
  "language_info": {
   "codemirror_mode": {
    "name": "ipython",
    "version": 3
   },
   "file_extension": ".py",
   "mimetype": "text/x-python",
   "name": "python",
   "nbconvert_exporter": "python",
   "pygments_lexer": "ipython3",
   "version": "3.5.2"
  }
 },
 "nbformat": 4,
 "nbformat_minor": 0
}
