{
 "cells": [
  {
   "cell_type": "markdown",
   "metadata": {},
   "source": [
    "# Seznam kandidátů\n",
    "Budeme to brát z DBF souborů na stránce [otevřených dat ČSÚ](http://www.volby.cz/opendata/opendata.htm) - konkrétně \"Registry\". K některým máme XML a někde XLSX. Zpracování tu je málo, jen se párujou lidi a strany."
   ]
  },
  {
   "cell_type": "code",
   "execution_count": 3,
   "metadata": {
    "collapsed": false
   },
   "outputs": [
    {
     "name": "stdout",
     "output_type": "stream",
     "text": [
      "PyTables is not installed. No support for HDF output.\n",
      "SQLalchemy is not installed. No support for SQL output.\n"
     ]
    }
   ],
   "source": [
    "import dbfread\n",
    "from simpledbf import Dbf5\n",
    "import pandas as pd\n",
    "import xmltodict\n",
    "from zipfile import ZipFile\n",
    "from glob import glob\n",
    "import os\n",
    "%matplotlib inline"
   ]
  },
  {
   "cell_type": "code",
   "execution_count": 4,
   "metadata": {
    "collapsed": true
   },
   "outputs": [],
   "source": [
    "dr = 'vystupy/'"
   ]
  },
  {
   "cell_type": "markdown",
   "metadata": {},
   "source": [
    "## PSP\n",
    "DBF"
   ]
  },
  {
   "cell_type": "code",
   "execution_count": 3,
   "metadata": {
    "collapsed": true
   },
   "outputs": [],
   "source": [
    "for fn in glob('data/PS*.zip'):\n",
    "    fnk = os.path.split(fn)[-1].split('.')[0] + '.csv'\n",
    "    with ZipFile(fn) as zf:\n",
    "        df = Dbf5(zf.extract('PSRK.dbf'), codec='cp852').to_dataframe()\n",
    "        os.remove('PSRK.dbf')\n",
    "\n",
    "        df2 = Dbf5(zf.extract('PSRKL.dbf'), codec='cp852').to_dataframe()\n",
    "        os.remove('PSRKL.dbf')\n",
    "\n",
    "        df.merge(df2, on='KSTRANA').to_csv(os.path.join(dr, fnk))"
   ]
  },
  {
   "cell_type": "markdown",
   "metadata": {},
   "source": [
    "## Kraje\n",
    "DBF"
   ]
  },
  {
   "cell_type": "code",
   "execution_count": 4,
   "metadata": {
    "collapsed": false
   },
   "outputs": [],
   "source": [
    "for fn in glob('data/kz*.zip'):\n",
    "    fnk = os.path.split(fn)[-1].split('.')[0] + '.csv'\n",
    "    with ZipFile(fn) as zf:\n",
    "        kz = [j.filename for j in zf.filelist if j.filename.startswith('KZRK.')][0]\n",
    "        df = Dbf5(zf.extract(kz), codec='cp852').to_dataframe()\n",
    "        os.remove(kz)\n",
    "\n",
    "        kz = [j.filename for j in zf.filelist if j.filename.startswith('KZRKL.')][0]\n",
    "        df2 = Dbf5(zf.extract(kz), codec='cp852').to_dataframe()\n",
    "        os.remove(kz)\n",
    "\n",
    "        df.join(df2, on='KSTRANA', how='left', rsuffix='str_').to_csv(os.path.join(dr, fnk))"
   ]
  },
  {
   "cell_type": "markdown",
   "metadata": {},
   "source": [
    "## EP\n",
    "XML"
   ]
  },
  {
   "cell_type": "code",
   "execution_count": 5,
   "metadata": {
    "collapsed": false
   },
   "outputs": [],
   "source": [
    "for fn in glob('data/EP*.zip'):\n",
    "    fnk = fn.split('/')[-1].replace('.zip', '.csv')\n",
    "    with ZipFile(fn) as zf:\n",
    "        fns = [j.filename for j in zf.filelist]\n",
    "        if len(fns) != 2 or 'eprkl.xml' not in fns or 'eprk.xml' not in fns:\n",
    "            raise ValueError('err')\n",
    "\n",
    "        with zf.open('eprkl.xml') as f:\n",
    "            strany = pd.DataFrame(xmltodict.parse(f.read())['EP_RKL']['EP_RKL_ROW'])\n",
    "        with zf.open('eprk.xml') as f:\n",
    "            kandi = pd.DataFrame(xmltodict.parse(f.read())['EP_REGKAND']['EP_REGKAND_ROW'])\n",
    "            \n",
    "        kandi.merge(strany, on='ESTRANA').to_csv(os.path.join(dr, fnk))"
   ]
  },
  {
   "cell_type": "markdown",
   "metadata": {},
   "source": [
    "## Senát\n",
    "XLSX"
   ]
  },
  {
   "cell_type": "code",
   "execution_count": 6,
   "metadata": {
    "collapsed": false
   },
   "outputs": [],
   "source": [
    "for fn in glob('data/SE*'):\n",
    "    fnk = os.path.split(fn)[-1].split('.')[0] + '.csv'\n",
    "    with ZipFile(fn) as zf:\n",
    "        pd.read_excel(zf.open('serk.xlsx')).to_csv(os.path.join(dr, fnk))"
   ]
  },
  {
   "cell_type": "code",
   "execution_count": null,
   "metadata": {
    "collapsed": true
   },
   "outputs": [],
   "source": []
  },
  {
   "cell_type": "code",
   "execution_count": null,
   "metadata": {
    "collapsed": true
   },
   "outputs": [],
   "source": [
    "df=pd.read_excel('data/KV2014reg20141014_xlsx/kvrk.xlsx')"
   ]
  },
  {
   "cell_type": "code",
   "execution_count": null,
   "metadata": {
    "collapsed": true
   },
   "outputs": [],
   "source": [
    "df.head(1).T"
   ]
  },
  {
   "cell_type": "code",
   "execution_count": null,
   "metadata": {
    "collapsed": true
   },
   "outputs": [],
   "source": []
  }
 ],
 "metadata": {
  "kernelspec": {
   "display_name": "Python 3",
   "language": "python",
   "name": "python3"
  },
  "language_info": {
   "codemirror_mode": {
    "name": "ipython",
    "version": 3
   },
   "file_extension": ".py",
   "mimetype": "text/x-python",
   "name": "python",
   "nbconvert_exporter": "python",
   "pygments_lexer": "ipython3",
   "version": "3.5.2"
  }
 },
 "nbformat": 4,
 "nbformat_minor": 0
}
